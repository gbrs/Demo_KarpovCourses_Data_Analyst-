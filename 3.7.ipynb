{
 "cells": [
  {
   "cell_type": "code",
   "execution_count": 1,
   "metadata": {},
   "outputs": [],
   "source": [
    "import numpy as np\n",
    "import pandas as pd\n",
    "import matplotlib.pyplot as plt\n",
    "import seaborn as sns"
   ]
  },
  {
   "cell_type": "code",
   "execution_count": 23,
   "metadata": {},
   "outputs": [
    {
     "data": {
      "text/html": [
       "<div>\n",
       "<style scoped>\n",
       "    .dataframe tbody tr th:only-of-type {\n",
       "        vertical-align: middle;\n",
       "    }\n",
       "\n",
       "    .dataframe tbody tr th {\n",
       "        vertical-align: top;\n",
       "    }\n",
       "\n",
       "    .dataframe thead th {\n",
       "        text-align: right;\n",
       "    }\n",
       "</style>\n",
       "<table border=\"1\" class=\"dataframe\">\n",
       "  <thead>\n",
       "    <tr style=\"text-align: right;\">\n",
       "      <th></th>\n",
       "      <th>income</th>\n",
       "    </tr>\n",
       "    <tr>\n",
       "      <th>company</th>\n",
       "      <th></th>\n",
       "    </tr>\n",
       "  </thead>\n",
       "  <tbody>\n",
       "    <tr>\n",
       "      <th>En +</th>\n",
       "      <td>9.962187e+10</td>\n",
       "    </tr>\n",
       "    <tr>\n",
       "      <th>АО «Александрова, Савельев и Мельникова»</th>\n",
       "      <td>7.206782e+10</td>\n",
       "    </tr>\n",
       "    <tr>\n",
       "      <th>АО «Андреев-Анисимов»</th>\n",
       "      <td>6.931948e+09</td>\n",
       "    </tr>\n",
       "    <tr>\n",
       "      <th>АО «Андреев-Макарова»</th>\n",
       "      <td>8.934380e+10</td>\n",
       "    </tr>\n",
       "    <tr>\n",
       "      <th>АО «Большаков Кошелева»</th>\n",
       "      <td>7.860861e+10</td>\n",
       "    </tr>\n",
       "    <tr>\n",
       "      <th>...</th>\n",
       "      <td>...</td>\n",
       "    </tr>\n",
       "    <tr>\n",
       "      <th>Щекиноазот</th>\n",
       "      <td>4.309092e+10</td>\n",
       "    </tr>\n",
       "    <tr>\n",
       "      <th>Щукин Лимитед</th>\n",
       "      <td>6.703036e+10</td>\n",
       "    </tr>\n",
       "    <tr>\n",
       "      <th>Эйвон Бьюти Продактс Компани (Avon)</th>\n",
       "      <td>2.503657e+10</td>\n",
       "    </tr>\n",
       "    <tr>\n",
       "      <th>Яковлева Инкорпорэйтед</th>\n",
       "      <td>3.523436e+10</td>\n",
       "    </tr>\n",
       "    <tr>\n",
       "      <th>Якушев Лимитед</th>\n",
       "      <td>3.876468e+10</td>\n",
       "    </tr>\n",
       "  </tbody>\n",
       "</table>\n",
       "<p>289 rows × 1 columns</p>\n",
       "</div>"
      ],
      "text/plain": [
       "                                                income\n",
       "company                                               \n",
       "En +                                      9.962187e+10\n",
       "АО «Александрова, Савельев и Мельникова»  7.206782e+10\n",
       "АО «Андреев-Анисимов»                     6.931948e+09\n",
       "АО «Андреев-Макарова»                     8.934380e+10\n",
       "АО «Большаков Кошелева»                   7.860861e+10\n",
       "...                                                ...\n",
       "Щекиноазот                                4.309092e+10\n",
       "Щукин Лимитед                             6.703036e+10\n",
       "Эйвон Бьюти Продактс Компани (Avon)       2.503657e+10\n",
       "Яковлева Инкорпорэйтед                    3.523436e+10\n",
       "Якушев Лимитед                            3.876468e+10\n",
       "\n",
       "[289 rows x 1 columns]"
      ]
     },
     "execution_count": 23,
     "metadata": {},
     "output_type": "execute_result"
    }
   ],
   "source": [
    "def read_n_agg(file_name):\n",
    "    df = pd.read_csv(file_name, encoding='utf-8', sep=';')\n",
    "    df_incomes = df.groupby('company').agg('mean')\n",
    "    return df_incomes\n",
    "read_n_agg('3.7.csv')"
   ]
  },
  {
   "cell_type": "code",
   "execution_count": null,
   "metadata": {
    "scrolled": true
   },
   "outputs": [],
   "source": []
  },
  {
   "cell_type": "code",
   "execution_count": null,
   "metadata": {},
   "outputs": [],
   "source": []
  },
  {
   "cell_type": "code",
   "execution_count": null,
   "metadata": {},
   "outputs": [],
   "source": []
  },
  {
   "cell_type": "code",
   "execution_count": null,
   "metadata": {},
   "outputs": [],
   "source": []
  },
  {
   "cell_type": "code",
   "execution_count": null,
   "metadata": {},
   "outputs": [],
   "source": []
  },
  {
   "cell_type": "code",
   "execution_count": null,
   "metadata": {},
   "outputs": [],
   "source": []
  },
  {
   "cell_type": "code",
   "execution_count": null,
   "metadata": {},
   "outputs": [],
   "source": []
  }
 ],
 "metadata": {
  "kernelspec": {
   "display_name": "Python 3",
   "language": "python",
   "name": "python3"
  },
  "language_info": {
   "codemirror_mode": {
    "name": "ipython",
    "version": 3
   },
   "file_extension": ".py",
   "mimetype": "text/x-python",
   "name": "python",
   "nbconvert_exporter": "python",
   "pygments_lexer": "ipython3",
   "version": "3.7.3"
  }
 },
 "nbformat": 4,
 "nbformat_minor": 4
}
